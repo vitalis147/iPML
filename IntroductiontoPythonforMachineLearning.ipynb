{
 "cells": [
  {
   "cell_type": "code",
   "execution_count": 1,
   "id": "5321ab7c-81e6-4800-b1a3-65fd99ad37ab",
   "metadata": {},
   "outputs": [],
   "source": [
    "import pandas as pd\n",
    "from matplotlib import pyplot as plt\n",
    "import numpy as np\n",
    "\n",
    "%matplotlib inline"
   ]
  },
  {
   "cell_type": "code",
   "execution_count": 2,
   "id": "379da012-80dd-4ff2-9459-8466593009d9",
   "metadata": {},
   "outputs": [
    {
     "data": {
      "text/html": [
       "<div>\n",
       "<style scoped>\n",
       "    .dataframe tbody tr th:only-of-type {\n",
       "        vertical-align: middle;\n",
       "    }\n",
       "\n",
       "    .dataframe tbody tr th {\n",
       "        vertical-align: top;\n",
       "    }\n",
       "\n",
       "    .dataframe thead th {\n",
       "        text-align: right;\n",
       "    }\n",
       "</style>\n",
       "<table border=\"1\" class=\"dataframe\">\n",
       "  <thead>\n",
       "    <tr style=\"text-align: right;\">\n",
       "      <th></th>\n",
       "      <th>Age</th>\n",
       "      <th>Nationality</th>\n",
       "      <th>Overall</th>\n",
       "    </tr>\n",
       "  </thead>\n",
       "  <tbody>\n",
       "    <tr>\n",
       "      <th>1</th>\n",
       "      <td>35</td>\n",
       "      <td>Portugal</td>\n",
       "      <td>94</td>\n",
       "    </tr>\n",
       "    <tr>\n",
       "      <th>2</th>\n",
       "      <td>33</td>\n",
       "      <td>Argentina</td>\n",
       "      <td>93</td>\n",
       "    </tr>\n",
       "    <tr>\n",
       "      <th>3</th>\n",
       "      <td>30</td>\n",
       "      <td>Brazil</td>\n",
       "      <td>92</td>\n",
       "    </tr>\n",
       "  </tbody>\n",
       "</table>\n",
       "</div>"
      ],
      "text/plain": [
       "   Age Nationality  Overall\n",
       "1   35    Portugal       94\n",
       "2   33   Argentina       93\n",
       "3   30      Brazil       92"
      ]
     },
     "execution_count": 2,
     "metadata": {},
     "output_type": "execute_result"
    }
   ],
   "source": [
    "lst = [[35, 'Portugal', 94], [33, 'Argentina', 93], [30 , 'Brazil', 92]]\n",
    "cols = [\"Age\",\"Nationality\",\"Overall\"]\n",
    "\n",
    "df = pd.DataFrame(data=lst, columns=cols, index=[i for i in range(1,4)])\n",
    "df"
   ]
  },
  {
   "cell_type": "code",
   "execution_count": 3,
   "id": "cbff5227-481b-4f08-85bb-2e28c41a0e58",
   "metadata": {},
   "outputs": [
    {
     "data": {
      "text/html": [
       "<div>\n",
       "<style scoped>\n",
       "    .dataframe tbody tr th:only-of-type {\n",
       "        vertical-align: middle;\n",
       "    }\n",
       "\n",
       "    .dataframe tbody tr th {\n",
       "        vertical-align: top;\n",
       "    }\n",
       "\n",
       "    .dataframe thead th {\n",
       "        text-align: right;\n",
       "    }\n",
       "</style>\n",
       "<table border=\"1\" class=\"dataframe\">\n",
       "  <thead>\n",
       "    <tr style=\"text-align: right;\">\n",
       "      <th></th>\n",
       "      <th>Age</th>\n",
       "      <th>Nationality</th>\n",
       "      <th>Overall</th>\n",
       "    </tr>\n",
       "  </thead>\n",
       "  <tbody>\n",
       "    <tr>\n",
       "      <th>1</th>\n",
       "      <td>35</td>\n",
       "      <td>Portugal</td>\n",
       "      <td>94</td>\n",
       "    </tr>\n",
       "    <tr>\n",
       "      <th>2</th>\n",
       "      <td>33</td>\n",
       "      <td>Argentina</td>\n",
       "      <td>93</td>\n",
       "    </tr>\n",
       "    <tr>\n",
       "      <th>3</th>\n",
       "      <td>30</td>\n",
       "      <td>Brazil</td>\n",
       "      <td>92</td>\n",
       "    </tr>\n",
       "  </tbody>\n",
       "</table>\n",
       "</div>"
      ],
      "text/plain": [
       "   Age Nationality  Overall\n",
       "1   35    Portugal       94\n",
       "2   33   Argentina       93\n",
       "3   30      Brazil       92"
      ]
     },
     "execution_count": 3,
     "metadata": {},
     "output_type": "execute_result"
    }
   ],
   "source": [
    "df2 = pd.DataFrame(data=lst, columns=cols, index=[1,2,3])\n",
    "df2"
   ]
  },
  {
   "cell_type": "code",
   "execution_count": 4,
   "id": "59d64888-db5a-4fff-a365-67555d42963a",
   "metadata": {},
   "outputs": [
    {
     "data": {
      "text/plain": [
       "array([[89, 63],\n",
       "       [92, 48]])"
      ]
     },
     "execution_count": 4,
     "metadata": {},
     "output_type": "execute_result"
    }
   ],
   "source": [
    "arr = np.array([[94, 89, 63], \n",
    "                [93, 92, 48],\n",
    "                [92, 94, 56]]\n",
    "              )\n",
    "\n",
    "arr[:2, 1:]"
   ]
  },
  {
   "cell_type": "code",
   "execution_count": 5,
   "id": "71ffeda4-17e8-4c0c-bc78-b87669acbc7b",
   "metadata": {},
   "outputs": [],
   "source": [
    "food = pd.read_csv(\"food.csv\", encoding=\"latin-1\")"
   ]
  },
  {
   "cell_type": "code",
   "execution_count": 65,
   "id": "e5ced6d0-b6ac-4354-b9ae-9053cd361568",
   "metadata": {},
   "outputs": [
    {
     "data": {
      "text/html": [
       "<div>\n",
       "<style scoped>\n",
       "    .dataframe tbody tr th:only-of-type {\n",
       "        vertical-align: middle;\n",
       "    }\n",
       "\n",
       "    .dataframe tbody tr th {\n",
       "        vertical-align: top;\n",
       "    }\n",
       "\n",
       "    .dataframe thead th {\n",
       "        text-align: right;\n",
       "    }\n",
       "</style>\n",
       "<table border=\"1\" class=\"dataframe\">\n",
       "  <thead>\n",
       "    <tr style=\"text-align: right;\">\n",
       "      <th></th>\n",
       "      <th>Area Code</th>\n",
       "      <th>Area</th>\n",
       "      <th>Item Code</th>\n",
       "      <th>Item</th>\n",
       "      <th>Element Code</th>\n",
       "      <th>Element</th>\n",
       "      <th>Unit</th>\n",
       "      <th>Y2014</th>\n",
       "      <th>Y2015</th>\n",
       "      <th>Y2016</th>\n",
       "      <th>Y2017</th>\n",
       "      <th>Y2018</th>\n",
       "    </tr>\n",
       "  </thead>\n",
       "  <tbody>\n",
       "    <tr>\n",
       "      <th>0</th>\n",
       "      <td>4</td>\n",
       "      <td>Algeria</td>\n",
       "      <td>2501</td>\n",
       "      <td>Population</td>\n",
       "      <td>511</td>\n",
       "      <td>Total Population - Both sexes</td>\n",
       "      <td>1000 persons</td>\n",
       "      <td>38924.00</td>\n",
       "      <td>39728.00</td>\n",
       "      <td>40551.00</td>\n",
       "      <td>41389.00</td>\n",
       "      <td>42228.00</td>\n",
       "    </tr>\n",
       "    <tr>\n",
       "      <th>1</th>\n",
       "      <td>4</td>\n",
       "      <td>Algeria</td>\n",
       "      <td>2501</td>\n",
       "      <td>Population</td>\n",
       "      <td>5301</td>\n",
       "      <td>Domestic supply quantity</td>\n",
       "      <td>1000 tonnes</td>\n",
       "      <td>0.00</td>\n",
       "      <td>0.00</td>\n",
       "      <td>0.00</td>\n",
       "      <td>0.00</td>\n",
       "      <td>0.00</td>\n",
       "    </tr>\n",
       "    <tr>\n",
       "      <th>2</th>\n",
       "      <td>4</td>\n",
       "      <td>Algeria</td>\n",
       "      <td>2901</td>\n",
       "      <td>Grand Total</td>\n",
       "      <td>664</td>\n",
       "      <td>Food supply (kcal/capita/day)</td>\n",
       "      <td>kcal/capita/day</td>\n",
       "      <td>3377.00</td>\n",
       "      <td>3379.00</td>\n",
       "      <td>3372.00</td>\n",
       "      <td>3341.00</td>\n",
       "      <td>3322.00</td>\n",
       "    </tr>\n",
       "    <tr>\n",
       "      <th>3</th>\n",
       "      <td>4</td>\n",
       "      <td>Algeria</td>\n",
       "      <td>2901</td>\n",
       "      <td>Grand Total</td>\n",
       "      <td>674</td>\n",
       "      <td>Protein supply quantity (g/capita/day)</td>\n",
       "      <td>g/capita/day</td>\n",
       "      <td>94.90</td>\n",
       "      <td>94.35</td>\n",
       "      <td>94.72</td>\n",
       "      <td>92.82</td>\n",
       "      <td>91.83</td>\n",
       "    </tr>\n",
       "    <tr>\n",
       "      <th>4</th>\n",
       "      <td>4</td>\n",
       "      <td>Algeria</td>\n",
       "      <td>2901</td>\n",
       "      <td>Grand Total</td>\n",
       "      <td>684</td>\n",
       "      <td>Fat supply quantity (g/capita/day)</td>\n",
       "      <td>g/capita/day</td>\n",
       "      <td>80.06</td>\n",
       "      <td>79.36</td>\n",
       "      <td>77.40</td>\n",
       "      <td>80.19</td>\n",
       "      <td>77.28</td>\n",
       "    </tr>\n",
       "  </tbody>\n",
       "</table>\n",
       "</div>"
      ],
      "text/plain": [
       "   Area Code     Area  Item Code         Item  Element Code  \\\n",
       "0          4  Algeria       2501   Population           511   \n",
       "1          4  Algeria       2501   Population          5301   \n",
       "2          4  Algeria       2901  Grand Total           664   \n",
       "3          4  Algeria       2901  Grand Total           674   \n",
       "4          4  Algeria       2901  Grand Total           684   \n",
       "\n",
       "                                  Element             Unit     Y2014  \\\n",
       "0           Total Population - Both sexes     1000 persons  38924.00   \n",
       "1                Domestic supply quantity      1000 tonnes      0.00   \n",
       "2           Food supply (kcal/capita/day)  kcal/capita/day   3377.00   \n",
       "3  Protein supply quantity (g/capita/day)     g/capita/day     94.90   \n",
       "4      Fat supply quantity (g/capita/day)     g/capita/day     80.06   \n",
       "\n",
       "      Y2015     Y2016     Y2017     Y2018  \n",
       "0  39728.00  40551.00  41389.00  42228.00  \n",
       "1      0.00      0.00      0.00      0.00  \n",
       "2   3379.00   3372.00   3341.00   3322.00  \n",
       "3     94.35     94.72     92.82     91.83  \n",
       "4     79.36     77.40     80.19     77.28  "
      ]
     },
     "execution_count": 65,
     "metadata": {},
     "output_type": "execute_result"
    }
   ],
   "source": [
    "food.head(5)"
   ]
  },
  {
   "cell_type": "code",
   "execution_count": 73,
   "id": "74ace7fb-2797-42a1-bab5-d52ab0f454af",
   "metadata": {},
   "outputs": [
    {
     "data": {
      "text/plain": [
       "mean     140.92\n",
       "std     1671.86\n",
       "Name: Y2017, dtype: float64"
      ]
     },
     "execution_count": 73,
     "metadata": {},
     "output_type": "execute_result"
    }
   ],
   "source": [
    "food[\"Y2017\"].agg([np.mean, np.std]).round(2)"
   ]
  },
  {
   "cell_type": "code",
   "execution_count": 83,
   "id": "7eb71cd9-b18a-48d0-8b4c-e452f85a099c",
   "metadata": {},
   "outputs": [
    {
     "data": {
      "text/html": [
       "<div>\n",
       "<style scoped>\n",
       "    .dataframe tbody tr th:only-of-type {\n",
       "        vertical-align: middle;\n",
       "    }\n",
       "\n",
       "    .dataframe tbody tr th {\n",
       "        vertical-align: top;\n",
       "    }\n",
       "\n",
       "    .dataframe thead th {\n",
       "        text-align: right;\n",
       "    }\n",
       "</style>\n",
       "<table border=\"1\" class=\"dataframe\">\n",
       "  <thead>\n",
       "    <tr style=\"text-align: right;\">\n",
       "      <th></th>\n",
       "      <th>Y2017</th>\n",
       "    </tr>\n",
       "    <tr>\n",
       "      <th>Area</th>\n",
       "      <th></th>\n",
       "    </tr>\n",
       "  </thead>\n",
       "  <tbody>\n",
       "    <tr>\n",
       "      <th>Nigeria</th>\n",
       "      <td>1483268.23</td>\n",
       "    </tr>\n",
       "  </tbody>\n",
       "</table>\n",
       "</div>"
      ],
      "text/plain": [
       "              Y2017\n",
       "Area               \n",
       "Nigeria  1483268.23"
      ]
     },
     "execution_count": 83,
     "metadata": {},
     "output_type": "execute_result"
    }
   ],
   "source": [
    "area_2017_sum = food[[\"Area\", \"Y2017\"]].groupby(\"Area\").sum().sort_values(\"Y2017\", ascending=False)\n",
    "area_2017_sum.iloc[[0]]"
   ]
  },
  {
   "cell_type": "code",
   "execution_count": 81,
   "id": "e12dd7d7-7e34-4e9f-ba9b-7fd7152759b5",
   "metadata": {},
   "outputs": [
    {
     "data": {
      "text/html": [
       "<div>\n",
       "<style scoped>\n",
       "    .dataframe tbody tr th:only-of-type {\n",
       "        vertical-align: middle;\n",
       "    }\n",
       "\n",
       "    .dataframe tbody tr th {\n",
       "        vertical-align: top;\n",
       "    }\n",
       "\n",
       "    .dataframe thead th {\n",
       "        text-align: right;\n",
       "    }\n",
       "</style>\n",
       "<table border=\"1\" class=\"dataframe\">\n",
       "  <thead>\n",
       "    <tr style=\"text-align: right;\">\n",
       "      <th></th>\n",
       "      <th>Y2015</th>\n",
       "      <th>Y2018</th>\n",
       "    </tr>\n",
       "    <tr>\n",
       "      <th>Item</th>\n",
       "      <th></th>\n",
       "      <th></th>\n",
       "    </tr>\n",
       "  </thead>\n",
       "  <tbody>\n",
       "    <tr>\n",
       "      <th>Wine</th>\n",
       "      <td>4251.81</td>\n",
       "      <td>4039.32</td>\n",
       "    </tr>\n",
       "  </tbody>\n",
       "</table>\n",
       "</div>"
      ],
      "text/plain": [
       "        Y2015    Y2018\n",
       "Item                  \n",
       "Wine  4251.81  4039.32"
      ]
     },
     "execution_count": 81,
     "metadata": {},
     "output_type": "execute_result"
    }
   ],
   "source": [
    "item_groupby = food.groupby(\"Item\")[[\"Y2015\", \"Y2018\"]].sum()\n",
    "wine_2015_2018 = item_groupby.loc[[\"Wine\"]]\n",
    "wine_2015_2018"
   ]
  },
  {
   "cell_type": "code",
   "execution_count": 82,
   "id": "30834fb2-58b8-433c-ab36-d2777e95ee74",
   "metadata": {},
   "outputs": [
    {
     "data": {
      "text/html": [
       "<div>\n",
       "<style scoped>\n",
       "    .dataframe tbody tr th:only-of-type {\n",
       "        vertical-align: middle;\n",
       "    }\n",
       "\n",
       "    .dataframe tbody tr th {\n",
       "        vertical-align: top;\n",
       "    }\n",
       "\n",
       "    .dataframe thead th {\n",
       "        text-align: right;\n",
       "    }\n",
       "</style>\n",
       "<table border=\"1\" class=\"dataframe\">\n",
       "  <thead>\n",
       "    <tr style=\"text-align: right;\">\n",
       "      <th></th>\n",
       "      <th>Y2017</th>\n",
       "    </tr>\n",
       "    <tr>\n",
       "      <th>Element</th>\n",
       "      <th></th>\n",
       "    </tr>\n",
       "  </thead>\n",
       "  <tbody>\n",
       "    <tr>\n",
       "      <th>Processing</th>\n",
       "      <td>292836.0</td>\n",
       "    </tr>\n",
       "  </tbody>\n",
       "</table>\n",
       "</div>"
      ],
      "text/plain": [
       "               Y2017\n",
       "Element             \n",
       "Processing  292836.0"
      ]
     },
     "execution_count": 82,
     "metadata": {},
     "output_type": "execute_result"
    }
   ],
   "source": [
    "element_groupby = food.groupby(\"Element\")[[\"Y2017\"]].sum()\n",
    "processing_2017 = element_groupby.loc[[\"Processing\"]]\n",
    "processing_2017"
   ]
  },
  {
   "cell_type": "code",
   "execution_count": 58,
   "id": "ab129151-4a69-43e2-9565-b4d4a7a8f1ac",
   "metadata": {},
   "outputs": [
    {
     "data": {
      "text/plain": [
       "Y2014    1931287.75\n",
       "Name: Production, dtype: float64"
      ]
     },
     "execution_count": 58,
     "metadata": {},
     "output_type": "execute_result"
    }
   ],
   "source": [
    "production = item_groupby.loc[\"Production\", [\"Y2014\"]]\n",
    "production"
   ]
  },
  {
   "cell_type": "code",
   "execution_count": 84,
   "id": "7ef96d80-ba21-4238-8148-f5c1af33eded",
   "metadata": {},
   "outputs": [
    {
     "data": {
      "text/html": [
       "<div>\n",
       "<style scoped>\n",
       "    .dataframe tbody tr th:only-of-type {\n",
       "        vertical-align: middle;\n",
       "    }\n",
       "\n",
       "    .dataframe tbody tr th {\n",
       "        vertical-align: top;\n",
       "    }\n",
       "\n",
       "    .dataframe thead th {\n",
       "        text-align: right;\n",
       "    }\n",
       "</style>\n",
       "<table border=\"1\" class=\"dataframe\">\n",
       "  <thead>\n",
       "    <tr style=\"text-align: right;\">\n",
       "      <th></th>\n",
       "      <th>Y2017</th>\n",
       "    </tr>\n",
       "    <tr>\n",
       "      <th>Area</th>\n",
       "      <th></th>\n",
       "    </tr>\n",
       "  </thead>\n",
       "  <tbody>\n",
       "    <tr>\n",
       "      <th>Guinea-Bissau</th>\n",
       "      <td>19102.77</td>\n",
       "    </tr>\n",
       "  </tbody>\n",
       "</table>\n",
       "</div>"
      ],
      "text/plain": [
       "                  Y2017\n",
       "Area                   \n",
       "Guinea-Bissau  19102.77"
      ]
     },
     "execution_count": 84,
     "metadata": {},
     "output_type": "execute_result"
    }
   ],
   "source": [
    "area_2017_sum.iloc[[-7]]"
   ]
  },
  {
   "cell_type": "code",
   "execution_count": 86,
   "id": "4f6e7d81-c602-4d73-85d8-4f909a2d5e0b",
   "metadata": {},
   "outputs": [
    {
     "data": {
      "text/html": [
       "<div>\n",
       "<style scoped>\n",
       "    .dataframe tbody tr th:only-of-type {\n",
       "        vertical-align: middle;\n",
       "    }\n",
       "\n",
       "    .dataframe tbody tr th {\n",
       "        vertical-align: top;\n",
       "    }\n",
       "\n",
       "    .dataframe thead th {\n",
       "        text-align: right;\n",
       "    }\n",
       "</style>\n",
       "<table border=\"1\" class=\"dataframe\">\n",
       "  <thead>\n",
       "    <tr style=\"text-align: right;\">\n",
       "      <th></th>\n",
       "      <th>Y2015</th>\n",
       "    </tr>\n",
       "    <tr>\n",
       "      <th>Element</th>\n",
       "      <th></th>\n",
       "    </tr>\n",
       "  </thead>\n",
       "  <tbody>\n",
       "    <tr>\n",
       "      <th>Protein supply quantity (g/capita/day)</th>\n",
       "      <td>173.05</td>\n",
       "    </tr>\n",
       "  </tbody>\n",
       "</table>\n",
       "</div>"
      ],
      "text/plain": [
       "                                         Y2015\n",
       "Element                                       \n",
       "Protein supply quantity (g/capita/day)  173.05"
      ]
     },
     "execution_count": 86,
     "metadata": {},
     "output_type": "execute_result"
    }
   ],
   "source": [
    "madagascar = food[food[\"Area\"] == \"Madagascar\"]\n",
    "elements_groupby_2015 = madagascar.groupby(\"Element\")[[\"Y2015\"]].sum()\n",
    "madagascar_psq_2015 = elements_groupby_2015.loc[[\"Protein supply quantity (g/capita/day)\"]]\n",
    "madagascar_psq_2015"
   ]
  },
  {
   "cell_type": "code",
   "execution_count": 90,
   "id": "7fbb3c09-e8ef-4db7-8ab3-5d706d875ef8",
   "metadata": {},
   "outputs": [
    {
     "data": {
      "text/html": [
       "<style type=\"text/css\">\n",
       "#T_f7ac4_row0_col0, #T_f7ac4_row1_col1, #T_f7ac4_row2_col2, #T_f7ac4_row3_col3, #T_f7ac4_row4_col4, #T_f7ac4_row4_col5, #T_f7ac4_row5_col4, #T_f7ac4_row5_col5 {\n",
       "  background-color: #023858;\n",
       "  color: #f1f1f1;\n",
       "}\n",
       "#T_f7ac4_row0_col1, #T_f7ac4_row0_col2, #T_f7ac4_row0_col3, #T_f7ac4_row0_col4, #T_f7ac4_row0_col5, #T_f7ac4_row1_col0, #T_f7ac4_row2_col0, #T_f7ac4_row3_col0, #T_f7ac4_row4_col0, #T_f7ac4_row5_col0 {\n",
       "  background-color: #fff7fb;\n",
       "  color: #000000;\n",
       "}\n",
       "#T_f7ac4_row1_col2, #T_f7ac4_row1_col3, #T_f7ac4_row1_col4, #T_f7ac4_row1_col5, #T_f7ac4_row2_col1, #T_f7ac4_row2_col3, #T_f7ac4_row3_col1, #T_f7ac4_row3_col2, #T_f7ac4_row3_col4, #T_f7ac4_row3_col5, #T_f7ac4_row4_col1, #T_f7ac4_row4_col3, #T_f7ac4_row5_col1, #T_f7ac4_row5_col3 {\n",
       "  background-color: #02395a;\n",
       "  color: #f1f1f1;\n",
       "}\n",
       "#T_f7ac4_row2_col4, #T_f7ac4_row2_col5, #T_f7ac4_row4_col2, #T_f7ac4_row5_col2 {\n",
       "  background-color: #023b5d;\n",
       "  color: #f1f1f1;\n",
       "}\n",
       "</style>\n",
       "<table id=\"T_f7ac4\">\n",
       "  <thead>\n",
       "    <tr>\n",
       "      <th class=\"blank level0\" >&nbsp;</th>\n",
       "      <th id=\"T_f7ac4_level0_col0\" class=\"col_heading level0 col0\" >Element Code</th>\n",
       "      <th id=\"T_f7ac4_level0_col1\" class=\"col_heading level0 col1\" >Y2014</th>\n",
       "      <th id=\"T_f7ac4_level0_col2\" class=\"col_heading level0 col2\" >Y2015</th>\n",
       "      <th id=\"T_f7ac4_level0_col3\" class=\"col_heading level0 col3\" >Y2016</th>\n",
       "      <th id=\"T_f7ac4_level0_col4\" class=\"col_heading level0 col4\" >Y2017</th>\n",
       "      <th id=\"T_f7ac4_level0_col5\" class=\"col_heading level0 col5\" >Y2018</th>\n",
       "    </tr>\n",
       "  </thead>\n",
       "  <tbody>\n",
       "    <tr>\n",
       "      <th id=\"T_f7ac4_level0_row0\" class=\"row_heading level0 row0\" >Element Code</th>\n",
       "      <td id=\"T_f7ac4_row0_col0\" class=\"data row0 col0\" >1.000000</td>\n",
       "      <td id=\"T_f7ac4_row0_col1\" class=\"data row0 col1\" >0.024457</td>\n",
       "      <td id=\"T_f7ac4_row0_col2\" class=\"data row0 col2\" >0.023889</td>\n",
       "      <td id=\"T_f7ac4_row0_col3\" class=\"data row0 col3\" >0.023444</td>\n",
       "      <td id=\"T_f7ac4_row0_col4\" class=\"data row0 col4\" >0.024254</td>\n",
       "      <td id=\"T_f7ac4_row0_col5\" class=\"data row0 col5\" >0.024279</td>\n",
       "    </tr>\n",
       "    <tr>\n",
       "      <th id=\"T_f7ac4_level0_row1\" class=\"row_heading level0 row1\" >Y2014</th>\n",
       "      <td id=\"T_f7ac4_row1_col0\" class=\"data row1 col0\" >0.024457</td>\n",
       "      <td id=\"T_f7ac4_row1_col1\" class=\"data row1 col1\" >1.000000</td>\n",
       "      <td id=\"T_f7ac4_row1_col2\" class=\"data row1 col2\" >0.994647</td>\n",
       "      <td id=\"T_f7ac4_row1_col3\" class=\"data row1 col3\" >0.996081</td>\n",
       "      <td id=\"T_f7ac4_row1_col4\" class=\"data row1 col4\" >0.995230</td>\n",
       "      <td id=\"T_f7ac4_row1_col5\" class=\"data row1 col5\" >0.994872</td>\n",
       "    </tr>\n",
       "    <tr>\n",
       "      <th id=\"T_f7ac4_level0_row2\" class=\"row_heading level0 row2\" >Y2015</th>\n",
       "      <td id=\"T_f7ac4_row2_col0\" class=\"data row2 col0\" >0.023889</td>\n",
       "      <td id=\"T_f7ac4_row2_col1\" class=\"data row2 col1\" >0.994647</td>\n",
       "      <td id=\"T_f7ac4_row2_col2\" class=\"data row2 col2\" >1.000000</td>\n",
       "      <td id=\"T_f7ac4_row2_col3\" class=\"data row2 col3\" >0.995739</td>\n",
       "      <td id=\"T_f7ac4_row2_col4\" class=\"data row2 col4\" >0.988048</td>\n",
       "      <td id=\"T_f7ac4_row2_col5\" class=\"data row2 col5\" >0.988208</td>\n",
       "    </tr>\n",
       "    <tr>\n",
       "      <th id=\"T_f7ac4_level0_row3\" class=\"row_heading level0 row3\" >Y2016</th>\n",
       "      <td id=\"T_f7ac4_row3_col0\" class=\"data row3 col0\" >0.023444</td>\n",
       "      <td id=\"T_f7ac4_row3_col1\" class=\"data row3 col1\" >0.996081</td>\n",
       "      <td id=\"T_f7ac4_row3_col2\" class=\"data row3 col2\" >0.995739</td>\n",
       "      <td id=\"T_f7ac4_row3_col3\" class=\"data row3 col3\" >1.000000</td>\n",
       "      <td id=\"T_f7ac4_row3_col4\" class=\"data row3 col4\" >0.992785</td>\n",
       "      <td id=\"T_f7ac4_row3_col5\" class=\"data row3 col5\" >0.992757</td>\n",
       "    </tr>\n",
       "    <tr>\n",
       "      <th id=\"T_f7ac4_level0_row4\" class=\"row_heading level0 row4\" >Y2017</th>\n",
       "      <td id=\"T_f7ac4_row4_col0\" class=\"data row4 col0\" >0.024254</td>\n",
       "      <td id=\"T_f7ac4_row4_col1\" class=\"data row4 col1\" >0.995230</td>\n",
       "      <td id=\"T_f7ac4_row4_col2\" class=\"data row4 col2\" >0.988048</td>\n",
       "      <td id=\"T_f7ac4_row4_col3\" class=\"data row4 col3\" >0.992785</td>\n",
       "      <td id=\"T_f7ac4_row4_col4\" class=\"data row4 col4\" >1.000000</td>\n",
       "      <td id=\"T_f7ac4_row4_col5\" class=\"data row4 col5\" >0.998103</td>\n",
       "    </tr>\n",
       "    <tr>\n",
       "      <th id=\"T_f7ac4_level0_row5\" class=\"row_heading level0 row5\" >Y2018</th>\n",
       "      <td id=\"T_f7ac4_row5_col0\" class=\"data row5 col0\" >0.024279</td>\n",
       "      <td id=\"T_f7ac4_row5_col1\" class=\"data row5 col1\" >0.994872</td>\n",
       "      <td id=\"T_f7ac4_row5_col2\" class=\"data row5 col2\" >0.988208</td>\n",
       "      <td id=\"T_f7ac4_row5_col3\" class=\"data row5 col3\" >0.992757</td>\n",
       "      <td id=\"T_f7ac4_row5_col4\" class=\"data row5 col4\" >0.998103</td>\n",
       "      <td id=\"T_f7ac4_row5_col5\" class=\"data row5 col5\" >1.000000</td>\n",
       "    </tr>\n",
       "  </tbody>\n",
       "</table>\n"
      ],
      "text/plain": [
       "<pandas.io.formats.style.Styler at 0x2817ef6c690>"
      ]
     },
     "execution_count": 90,
     "metadata": {},
     "output_type": "execute_result"
    }
   ],
   "source": [
    "corr = food[[\"Element Code\", \"Y2014\", \"Y2015\", \"Y2016\"\t, \"Y2017\", \"Y2018\"]].corr()\n",
    "corr.style.background_gradient()"
   ]
  },
  {
   "cell_type": "code",
   "execution_count": 94,
   "id": "379e15b9-97fe-43ec-8547-61960539e335",
   "metadata": {},
   "outputs": [
    {
     "name": "stdout",
     "output_type": "stream",
     "text": [
      "Total rows with missing numbers in 2014 [1589]\n",
      "Percent of the rows with missing numbers in 2014 [2.607]\n"
     ]
    }
   ],
   "source": [
    "food_2014 = food[[\"Y2014\"]]\n",
    "missing_total = food_2014.isna().sum()\n",
    "percent_missing = (missing_total / food_2014.shape[0]) * 100\n",
    "print(\"Total rows with missing numbers in 2014\", missing_total.values)\n",
    "print(\"Percent of the rows with missing numbers in 2014\", percent_missing.values.round(3))"
   ]
  },
  {
   "cell_type": "code",
   "execution_count": 98,
   "id": "82857a9b-79d0-4bf4-a795-994134a12d5c",
   "metadata": {},
   "outputs": [
    {
     "data": {
      "text/html": [
       "<div>\n",
       "<style scoped>\n",
       "    .dataframe tbody tr th:only-of-type {\n",
       "        vertical-align: middle;\n",
       "    }\n",
       "\n",
       "    .dataframe tbody tr th {\n",
       "        vertical-align: top;\n",
       "    }\n",
       "\n",
       "    .dataframe thead th {\n",
       "        text-align: right;\n",
       "    }\n",
       "</style>\n",
       "<table border=\"1\" class=\"dataframe\">\n",
       "  <thead>\n",
       "    <tr style=\"text-align: right;\">\n",
       "      <th></th>\n",
       "      <th>Y2014</th>\n",
       "      <th>Y2015</th>\n",
       "      <th>Y2016</th>\n",
       "      <th>Y2017</th>\n",
       "      <th>Y2018</th>\n",
       "    </tr>\n",
       "    <tr>\n",
       "      <th>Element</th>\n",
       "      <th></th>\n",
       "      <th></th>\n",
       "      <th></th>\n",
       "      <th></th>\n",
       "      <th></th>\n",
       "    </tr>\n",
       "  </thead>\n",
       "  <tbody>\n",
       "    <tr>\n",
       "      <th>Stock Variation</th>\n",
       "      <td>58749.83</td>\n",
       "      <td>34910.99</td>\n",
       "      <td>33140.12</td>\n",
       "      <td>54316.91</td>\n",
       "      <td>20577.91</td>\n",
       "    </tr>\n",
       "  </tbody>\n",
       "</table>\n",
       "</div>"
      ],
      "text/plain": [
       "                    Y2014     Y2015     Y2016     Y2017     Y2018\n",
       "Element                                                          \n",
       "Stock Variation  58749.83  34910.99  33140.12  54316.91  20577.91"
      ]
     },
     "execution_count": 98,
     "metadata": {},
     "output_type": "execute_result"
    }
   ],
   "source": [
    "stock_variation = food.groupby(\"Element\")[[\"Y2014\", \"Y2015\", \"Y2016\"\t, \"Y2017\", \"Y2018\"]].sum().loc[[\"Stock Variation\"]]\n",
    "stock_variation"
   ]
  },
  {
   "cell_type": "code",
   "execution_count": 99,
   "id": "1c633f95-c5f1-4cfd-b185-87dccaac29d0",
   "metadata": {},
   "outputs": [
    {
     "name": "stdout",
     "output_type": "stream",
     "text": [
      "There are 49 countries in the dataset.\n"
     ]
    }
   ],
   "source": [
    "countries = food.Area.nunique()\n",
    "txt = \"There are {} countries in the dataset.\"\n",
    "print(txt.format(countries))"
   ]
  },
  {
   "cell_type": "code",
   "execution_count": null,
   "id": "e20b63ea-1921-4e8a-8d51-11a350dd4bad",
   "metadata": {},
   "outputs": [],
   "source": []
  }
 ],
 "metadata": {
  "kernelspec": {
   "display_name": "Python 3 (ipykernel)",
   "language": "python",
   "name": "python3"
  },
  "language_info": {
   "codemirror_mode": {
    "name": "ipython",
    "version": 3
   },
   "file_extension": ".py",
   "mimetype": "text/x-python",
   "name": "python",
   "nbconvert_exporter": "python",
   "pygments_lexer": "ipython3",
   "version": "3.11.4"
  }
 },
 "nbformat": 4,
 "nbformat_minor": 5
}
